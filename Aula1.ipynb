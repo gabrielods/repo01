{
  "nbformat": 4,
  "nbformat_minor": 0,
  "metadata": {
    "colab": {
      "name": "Aula1.ipynb",
      "provenance": [],
      "authorship_tag": "ABX9TyMwHAXhr/7AGnzGSEbOWWkG",
      "include_colab_link": true
    },
    "kernelspec": {
      "name": "python3",
      "display_name": "Python 3"
    }
  },
  "cells": [
    {
      "cell_type": "markdown",
      "metadata": {
        "id": "view-in-github",
        "colab_type": "text"
      },
      "source": [
        "<a href=\"https://colab.research.google.com/github/gabrielods/repo01/blob/master/Aula1.ipynb\" target=\"_parent\"><img src=\"https://colab.research.google.com/assets/colab-badge.svg\" alt=\"Open In Colab\"/></a>"
      ]
    },
    {
      "cell_type": "code",
      "metadata": {
        "id": "gaYB8PgoX5k3",
        "colab_type": "code",
        "colab": {}
      },
      "source": [
        "# Variáveis - são espaços na memória do computador\n",
        "# que armazenam dados para serem processados\n",
        "\n",
        "# Uma variável tem um nome que a identifica no sistema\n",
        "# Uma variável pode ou não ter um valor\n",
        "# Uma variável sempre terá um tipo de dados relacionados a ela.\n"
      ],
      "execution_count": null,
      "outputs": []
    },
    {
      "cell_type": "code",
      "metadata": {
        "id": "GsWvkpx9aiu9",
        "colab_type": "code",
        "colab": {
          "base_uri": "https://localhost:8080/",
          "height": 34
        },
        "outputId": "fda3282c-7b6f-468b-ec77-1e61998d4d8e"
      },
      "source": [
        "# Exemplo de declaração de variáveis\n",
        "x = 10\n",
        "print(x)"
      ],
      "execution_count": 1,
      "outputs": [
        {
          "output_type": "stream",
          "text": [
            "10\n"
          ],
          "name": "stdout"
        }
      ]
    },
    {
      "cell_type": "code",
      "metadata": {
        "id": "YZxz1ZpLb_ge",
        "colab_type": "code",
        "colab": {
          "base_uri": "https://localhost:8080/",
          "height": 34
        },
        "outputId": "ccc07219-f999-4009-eb7e-9d4aedd3dd9e"
      },
      "source": [
        "print(10) # literal"
      ],
      "execution_count": 2,
      "outputs": [
        {
          "output_type": "stream",
          "text": [
            "10\n"
          ],
          "name": "stdout"
        }
      ]
    },
    {
      "cell_type": "code",
      "metadata": {
        "id": "kAX5eMZNcS_T",
        "colab_type": "code",
        "colab": {
          "base_uri": "https://localhost:8080/",
          "height": 34
        },
        "outputId": "5de10826-746e-4f34-ed02-4ad9315cc22e"
      },
      "source": [
        "print(x + x)"
      ],
      "execution_count": 3,
      "outputs": [
        {
          "output_type": "stream",
          "text": [
            "20\n"
          ],
          "name": "stdout"
        }
      ]
    },
    {
      "cell_type": "code",
      "metadata": {
        "id": "nvyJOKC0cY4z",
        "colab_type": "code",
        "colab": {
          "base_uri": "https://localhost:8080/",
          "height": 34
        },
        "outputId": "fdd6a00d-64c6-4be1-fab6-0518c78804fe"
      },
      "source": [
        "print(x / x)"
      ],
      "execution_count": 4,
      "outputs": [
        {
          "output_type": "stream",
          "text": [
            "1.0\n"
          ],
          "name": "stdout"
        }
      ]
    },
    {
      "cell_type": "code",
      "metadata": {
        "id": "lZV1MRr6cePz",
        "colab_type": "code",
        "colab": {}
      },
      "source": [
        "# float é um tipo de dados em computação que representa números Reais\n",
        "# ou seja, com casas decimais"
      ],
      "execution_count": null,
      "outputs": []
    },
    {
      "cell_type": "code",
      "metadata": {
        "id": "OY74D_Yydfh5",
        "colab_type": "code",
        "colab": {
          "base_uri": "https://localhost:8080/",
          "height": 51
        },
        "outputId": "42635391-b661-4750-cbeb-30874a91e47d"
      },
      "source": [
        "# Descobrir tipos de dados\n",
        "x = 10 # inteiro (int)\n",
        "y = 2.3 # real (float)\n",
        "\n",
        "print(x)\n",
        "print(y)\n"
      ],
      "execution_count": 6,
      "outputs": [
        {
          "output_type": "stream",
          "text": [
            "10\n",
            "2.3\n"
          ],
          "name": "stdout"
        }
      ]
    },
    {
      "cell_type": "code",
      "metadata": {
        "id": "NmQosMqUd7Xy",
        "colab_type": "code",
        "colab": {
          "base_uri": "https://localhost:8080/",
          "height": 51
        },
        "outputId": "4e3c0b3b-cd32-45ca-8513-d97bddf0d773"
      },
      "source": [
        "print(x, '\\n', y)"
      ],
      "execution_count": 7,
      "outputs": [
        {
          "output_type": "stream",
          "text": [
            "10 \n",
            " 2.3\n"
          ],
          "name": "stdout"
        }
      ]
    },
    {
      "cell_type": "code",
      "metadata": {
        "id": "FyjoUJFieExT",
        "colab_type": "code",
        "colab": {
          "base_uri": "https://localhost:8080/",
          "height": 34
        },
        "outputId": "a9bee12b-2e67-4052-b8e6-970692f23d2d"
      },
      "source": [
        "# Verificando o tipo de uma variável\n",
        "type(x)"
      ],
      "execution_count": 8,
      "outputs": [
        {
          "output_type": "execute_result",
          "data": {
            "text/plain": [
              "int"
            ]
          },
          "metadata": {
            "tags": []
          },
          "execution_count": 8
        }
      ]
    },
    {
      "cell_type": "code",
      "metadata": {
        "id": "sQ5KlqGZeRcP",
        "colab_type": "code",
        "colab": {
          "base_uri": "https://localhost:8080/",
          "height": 34
        },
        "outputId": "a8877ac0-0b9c-4d40-d613-497213560f63"
      },
      "source": [
        "type(y)"
      ],
      "execution_count": 9,
      "outputs": [
        {
          "output_type": "execute_result",
          "data": {
            "text/plain": [
              "float"
            ]
          },
          "metadata": {
            "tags": []
          },
          "execution_count": 9
        }
      ]
    },
    {
      "cell_type": "code",
      "metadata": {
        "id": "8Tdu2OQTeUlP",
        "colab_type": "code",
        "colab": {
          "base_uri": "https://localhost:8080/",
          "height": 34
        },
        "outputId": "46d8af03-f561-4947-a7af-78b0e3ffb5e0"
      },
      "source": [
        "# Vamos falar de Strings (texto)\n",
        "# Ex.: Edson Melo de Souza\n",
        "# Ex.: Ed Wander Alves da Silva\n",
        "\n",
        "# Para que um valor seja considerado como uma String,\n",
        "# ele deve estar entre ASPAS\n",
        "print(\"Ed Wander Alves da Silva\") # literal"
      ],
      "execution_count": 11,
      "outputs": [
        {
          "output_type": "stream",
          "text": [
            "Ed Wander Alves da Silva\n"
          ],
          "name": "stdout"
        }
      ]
    },
    {
      "cell_type": "code",
      "metadata": {
        "id": "QCbeOB4cfzn1",
        "colab_type": "code",
        "colab": {
          "base_uri": "https://localhost:8080/",
          "height": 34
        },
        "outputId": "970d03ef-159c-49ac-d8f1-464d4ae9f244"
      },
      "source": [
        "print(\"Edson Melo de Souza\") # literal\n",
        "\n",
        "nome = 'Tio Patinhas'"
      ],
      "execution_count": 15,
      "outputs": [
        {
          "output_type": "stream",
          "text": [
            "Edson Melo de Souza\n"
          ],
          "name": "stdout"
        }
      ]
    },
    {
      "cell_type": "code",
      "metadata": {
        "id": "yD7f-SmahM_E",
        "colab_type": "code",
        "colab": {
          "base_uri": "https://localhost:8080/",
          "height": 34
        },
        "outputId": "97874362-2cdd-4c05-ccf2-5dfba7352c90"
      },
      "source": [
        "print(nome * 2)"
      ],
      "execution_count": 16,
      "outputs": [
        {
          "output_type": "stream",
          "text": [
            "Tio PatinhasTio Patinhas\n"
          ],
          "name": "stdout"
        }
      ]
    },
    {
      "cell_type": "code",
      "metadata": {
        "id": "Yai7x3D2hnQd",
        "colab_type": "code",
        "colab": {
          "base_uri": "https://localhost:8080/",
          "height": 34
        },
        "outputId": "20d6e8d6-cb79-441f-de80-1903b07e45c3"
      },
      "source": [
        "nome = 'Tio Patinhas'\n",
        "print('Zé Carioca' + '\\t' + nome)"
      ],
      "execution_count": 20,
      "outputs": [
        {
          "output_type": "stream",
          "text": [
            "Zé Carioca\tTio Patinhas\n"
          ],
          "name": "stdout"
        }
      ]
    },
    {
      "cell_type": "code",
      "metadata": {
        "id": "j8dAnTvkh97p",
        "colab_type": "code",
        "colab": {
          "base_uri": "https://localhost:8080/",
          "height": 51
        },
        "outputId": "6895bebe-4191-404b-b114-c787104e3bea"
      },
      "source": [
        "# O comando print() tem várias formas de trabalhar\n",
        "print('Nathalia', 'Giovanna', 'de', 'Oliveira')\n",
        "print('Nathalia ' + 'Giovanna de', 'Oliveira')"
      ],
      "execution_count": 24,
      "outputs": [
        {
          "output_type": "stream",
          "text": [
            "Nathalia Giovanna de Oliveira\n",
            "Nathalia Giovanna de Oliveira\n"
          ],
          "name": "stdout"
        }
      ]
    },
    {
      "cell_type": "code",
      "metadata": {
        "id": "k6Ujr9hcjHXX",
        "colab_type": "code",
        "colab": {
          "base_uri": "https://localhost:8080/",
          "height": 34
        },
        "outputId": "14fc0d36-af7b-440f-dde1-434f153db725"
      },
      "source": [
        "nome = 'Edson Melo'\n",
        "idade = 49\n",
        "complemento = 'anos'\n",
        "\n",
        "print(nome, 'tem', idade, complemento)"
      ],
      "execution_count": 25,
      "outputs": [
        {
          "output_type": "stream",
          "text": [
            "Edson Melo tem 49 anos\n"
          ],
          "name": "stdout"
        }
      ]
    },
    {
      "cell_type": "code",
      "metadata": {
        "id": "Kdl2-hpxjhbP",
        "colab_type": "code",
        "colab": {
          "base_uri": "https://localhost:8080/",
          "height": 34
        },
        "outputId": "25ddfdf7-69ee-41de-fc44-42fc2a19875b"
      },
      "source": [
        "print(idade, complemento)"
      ],
      "execution_count": 27,
      "outputs": [
        {
          "output_type": "stream",
          "text": [
            "49 anos\n"
          ],
          "name": "stdout"
        }
      ]
    },
    {
      "cell_type": "code",
      "metadata": {
        "id": "6tZ8n28ZkQq-",
        "colab_type": "code",
        "colab": {
          "base_uri": "https://localhost:8080/",
          "height": 34
        },
        "outputId": "66385618-bcd9-4de1-c6f3-f7fcc008f283"
      },
      "source": [
        "# Convertendo um tipo de inteiro para String\n",
        "print(str(idade) + ' ' + complemento)"
      ],
      "execution_count": 29,
      "outputs": [
        {
          "output_type": "stream",
          "text": [
            "49 anos\n"
          ],
          "name": "stdout"
        }
      ]
    },
    {
      "cell_type": "code",
      "metadata": {
        "id": "JwLgukiCkdBm",
        "colab_type": "code",
        "colab": {
          "base_uri": "https://localhost:8080/",
          "height": 34
        },
        "outputId": "f174c972-0ef9-4515-8851-76e936b2ccbb"
      },
      "source": [
        "n1 = '10'\n",
        "n2 = 20\n",
        "print(int(n1) + n2)"
      ],
      "execution_count": 32,
      "outputs": [
        {
          "output_type": "stream",
          "text": [
            "30\n"
          ],
          "name": "stdout"
        }
      ]
    },
    {
      "cell_type": "code",
      "metadata": {
        "id": "_rwHRGDyk-ll",
        "colab_type": "code",
        "colab": {
          "base_uri": "https://localhost:8080/",
          "height": 51
        },
        "outputId": "2bcd4816-3f3e-4bb8-9684-b411d1e572a8"
      },
      "source": [
        "n1 = 10.2\n",
        "n2 = 8\n",
        "\n",
        "print(n1 + n2)\n",
        "print(int(n1) + n2)"
      ],
      "execution_count": 40,
      "outputs": [
        {
          "output_type": "stream",
          "text": [
            "18.2\n",
            "18\n"
          ],
          "name": "stdout"
        }
      ]
    },
    {
      "cell_type": "code",
      "metadata": {
        "id": "qBgiex6ilR6-",
        "colab_type": "code",
        "colab": {
          "base_uri": "https://localhost:8080/",
          "height": 34
        },
        "outputId": "b7934785-8ed9-4e05-e8f3-b3d2e1bcaab5"
      },
      "source": [
        "# Vamos melhorar a nossa formatação de saída (Máscara de Formatação)\n",
        "formato = '{0} {1} {2}'\n",
        "print(formato.format(nome, idade, complemento))"
      ],
      "execution_count": 42,
      "outputs": [
        {
          "output_type": "stream",
          "text": [
            "Edson Melo 49 anos\n"
          ],
          "name": "stdout"
        }
      ]
    },
    {
      "cell_type": "code",
      "metadata": {
        "id": "Ql0leC7TpV9Y",
        "colab_type": "code",
        "colab": {}
      },
      "source": [
        "# Adição +\n",
        "# Subtração -\n",
        "# Multiplicação *\n",
        "# Divisão /\n",
        "\n",
        "# Exponenciação ** (potência)\n",
        "# Parte Inteira //\n",
        "# Módulo %"
      ],
      "execution_count": null,
      "outputs": []
    },
    {
      "cell_type": "code",
      "metadata": {
        "id": "3MBCrkXEpuqG",
        "colab_type": "code",
        "colab": {
          "base_uri": "https://localhost:8080/",
          "height": 34
        },
        "outputId": "3db70516-6506-431a-934e-fcc93c07f253"
      },
      "source": [
        "n1 = 5\n",
        "n2 = 2\n",
        "\n",
        "# Potência\n",
        "print(n1 ** n2) # 5 elevado a 2"
      ],
      "execution_count": 43,
      "outputs": [
        {
          "output_type": "stream",
          "text": [
            "25\n"
          ],
          "name": "stdout"
        }
      ]
    },
    {
      "cell_type": "code",
      "metadata": {
        "id": "BM1s38LUqA3A",
        "colab_type": "code",
        "colab": {
          "base_uri": "https://localhost:8080/",
          "height": 34
        },
        "outputId": "68f22966-9278-44df-e8f3-8663580c483a"
      },
      "source": [
        "# Parte Inteira\n",
        "print(n1 // n2)"
      ],
      "execution_count": 45,
      "outputs": [
        {
          "output_type": "stream",
          "text": [
            "2\n"
          ],
          "name": "stdout"
        }
      ]
    },
    {
      "cell_type": "code",
      "metadata": {
        "id": "m-qzzoZEq1n_",
        "colab_type": "code",
        "colab": {
          "base_uri": "https://localhost:8080/",
          "height": 51
        },
        "outputId": "163c9b05-c0f4-4662-bbcb-3c3db658e986"
      },
      "source": [
        "# Resto da Divisão (Módulo)\n",
        "n1 = 2\n",
        "n2 = 3\n",
        "print(n1 / n2)\n",
        "print(n1 % n2)"
      ],
      "execution_count": 46,
      "outputs": [
        {
          "output_type": "stream",
          "text": [
            "0.6666666666666666\n",
            "2\n"
          ],
          "name": "stdout"
        }
      ]
    },
    {
      "cell_type": "code",
      "metadata": {
        "id": "eSvm4hNWu1sF",
        "colab_type": "code",
        "colab": {
          "base_uri": "https://localhost:8080/",
          "height": 34
        },
        "outputId": "8e619df3-fd71-4452-de81-ea178b7a6521"
      },
      "source": [
        "# Para que serve o Módulo?\n",
        "print(6 % 2)"
      ],
      "execution_count": 47,
      "outputs": [
        {
          "output_type": "stream",
          "text": [
            "0\n"
          ],
          "name": "stdout"
        }
      ]
    },
    {
      "cell_type": "code",
      "metadata": {
        "id": "-oFrLsj2u9_c",
        "colab_type": "code",
        "colab": {
          "base_uri": "https://localhost:8080/",
          "height": 34
        },
        "outputId": "92545e8e-1a39-4e86-9924-2bdaed16d0d6"
      },
      "source": [
        "# Operadores Relacionais\n",
        "# São os operadores de comparação\n",
        "# Maior, menor, menor igual, maior igual, diferente\n",
        "print(10 > 3)"
      ],
      "execution_count": 48,
      "outputs": [
        {
          "output_type": "stream",
          "text": [
            "True\n"
          ],
          "name": "stdout"
        }
      ]
    },
    {
      "cell_type": "code",
      "metadata": {
        "id": "ZqmCTiBJvPC0",
        "colab_type": "code",
        "colab": {
          "base_uri": "https://localhost:8080/",
          "height": 34
        },
        "outputId": "a4f2fc1f-65e9-4767-b859-3994fb6bf062"
      },
      "source": [
        "# <> esse símbolo é conhecido como Diamond (Diamante)\n",
        "# ! a exclamação significa negação\n",
        "print(10 != 8)"
      ],
      "execution_count": 51,
      "outputs": [
        {
          "output_type": "stream",
          "text": [
            "True\n"
          ],
          "name": "stdout"
        }
      ]
    },
    {
      "cell_type": "code",
      "metadata": {
        "id": "29-Cz0kKvutL",
        "colab_type": "code",
        "colab": {
          "base_uri": "https://localhost:8080/",
          "height": 34
        },
        "outputId": "0959b470-7041-4f9c-9666-9b8cbc8ef785"
      },
      "source": [
        "# O símbolo \"=\" é uma ATRIBUIÇÃO\n",
        "# Enquanto para comparar uma igualdade deve-se usar o \"==\"\n",
        "print(10 == 8)"
      ],
      "execution_count": 52,
      "outputs": [
        {
          "output_type": "stream",
          "text": [
            "False\n"
          ],
          "name": "stdout"
        }
      ]
    },
    {
      "cell_type": "code",
      "metadata": {
        "id": "0IMTLv1qwCLz",
        "colab_type": "code",
        "colab": {
          "base_uri": "https://localhost:8080/",
          "height": 34
        },
        "outputId": "e4837c8e-1bd6-4c36-bda2-f6b6d2a8ed6d"
      },
      "source": [
        "# Agora o cérebro vai fritar, kkk\n",
        "# Em algumas ocasiões especiais, precisamos saber se a igualdade é, de fato,\n",
        "# igual tanto em valor quanto ao tipo de dado.\n",
        "\n",
        "print(10 > 2)"
      ],
      "execution_count": 55,
      "outputs": [
        {
          "output_type": "stream",
          "text": [
            "True\n"
          ],
          "name": "stdout"
        }
      ]
    },
    {
      "cell_type": "code",
      "metadata": {
        "id": "DxVoaN77xbrb",
        "colab_type": "code",
        "colab": {
          "base_uri": "https://localhost:8080/",
          "height": 34
        },
        "outputId": "119cb999-ff74-450e-8f7f-ffc6f0d229b6"
      },
      "source": [
        "n1 = 10\n",
        "n2 = 10.0\n",
        "print(n1 == n2)"
      ],
      "execution_count": 58,
      "outputs": [
        {
          "output_type": "stream",
          "text": [
            "True\n"
          ],
          "name": "stdout"
        }
      ]
    },
    {
      "cell_type": "code",
      "metadata": {
        "id": "kyyqPWO4yiU-",
        "colab_type": "code",
        "colab": {}
      },
      "source": [
        "# Operadores Lógicos\n",
        "# AND significa \"e\"\n",
        "# OR \"ou\"\n",
        "# NOT \"não\"\n",
        "\n",
        "n1 = 10\n",
        "n2 = 10.0\n",
        "print((n1 == n2) and (type(n1) == type(n2)))"
      ],
      "execution_count": null,
      "outputs": []
    },
    {
      "cell_type": "code",
      "metadata": {
        "id": "93JiNPaEzcTy",
        "colab_type": "code",
        "colab": {
          "base_uri": "https://localhost:8080/",
          "height": 34
        },
        "outputId": "6c96e7b3-90c8-44a5-d698-2da5c3cfce08"
      },
      "source": [
        "n1 = 10\n",
        "n2 = 10.0\n",
        "print( not( (n1 == n2) and (type(n1) == type(n2))))"
      ],
      "execution_count": 61,
      "outputs": [
        {
          "output_type": "stream",
          "text": [
            "True\n"
          ],
          "name": "stdout"
        }
      ]
    },
    {
      "cell_type": "code",
      "metadata": {
        "id": "xPMbtqeSz1gc",
        "colab_type": "code",
        "colab": {}
      },
      "source": [
        "# Conversões\n",
        "#   Absoluto abs(x)\n",
        "#   Converter para Inteiro: int(x)\n",
        "#   Converter para Real: float(x)\n",
        "#   Converter para String: str(x)"
      ],
      "execution_count": null,
      "outputs": []
    },
    {
      "cell_type": "code",
      "metadata": {
        "id": "5GRsd3900Nx7",
        "colab_type": "code",
        "colab": {
          "base_uri": "https://localhost:8080/",
          "height": 51
        },
        "outputId": "a05aed51-a05a-4c42-ed07-decb19f1547a"
      },
      "source": [
        "print(abs(10.543))\n",
        "print(abs(-10.543))"
      ],
      "execution_count": 62,
      "outputs": [
        {
          "output_type": "stream",
          "text": [
            "10.543\n",
            "10.543\n"
          ],
          "name": "stdout"
        }
      ]
    },
    {
      "cell_type": "code",
      "metadata": {
        "id": "VkNSbFsC0c2a",
        "colab_type": "code",
        "colab": {
          "base_uri": "https://localhost:8080/",
          "height": 68
        },
        "outputId": "1e569965-99a9-43b8-dde8-98fd97d59cd0"
      },
      "source": [
        "# Como usar o teclado em Python\n",
        "entrada1 = input(\"Digite um valor\")\n",
        "entrada2 = input(\"Digite um valor\")\n",
        "print(entrada, entrada2)"
      ],
      "execution_count": 65,
      "outputs": [
        {
          "output_type": "stream",
          "text": [
            "Digite um valor10\n",
            "Digite um valor20\n",
            "10 20\n"
          ],
          "name": "stdout"
        }
      ]
    },
    {
      "cell_type": "code",
      "metadata": {
        "id": "JPKbWD610-Yh",
        "colab_type": "code",
        "colab": {}
      },
      "source": [
        ""
      ],
      "execution_count": null,
      "outputs": []
    }
  ]
}
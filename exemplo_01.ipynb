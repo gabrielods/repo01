{
  "nbformat": 4,
  "nbformat_minor": 0,
  "metadata": {
    "colab": {
      "name": "exemplo_01.ipynb",
      "provenance": [],
      "collapsed_sections": [],
      "authorship_tag": "ABX9TyMjzKi2Bo5Ya+zYuPsi6fGA",
      "include_colab_link": true
    },
    "kernelspec": {
      "name": "python3",
      "display_name": "Python 3"
    }
  },
  "cells": [
    {
      "cell_type": "markdown",
      "metadata": {
        "id": "view-in-github",
        "colab_type": "text"
      },
      "source": [
        "<a href=\"https://colab.research.google.com/github/gabrielods/repo01/blob/master/exemplo_01.ipynb\" target=\"_parent\"><img src=\"https://colab.research.google.com/assets/colab-badge.svg\" alt=\"Open In Colab\"/></a>"
      ]
    },
    {
      "cell_type": "code",
      "metadata": {
        "id": "9frRT56cwu6G",
        "colab_type": "code",
        "colab": {
          "base_uri": "https://localhost:8080/",
          "height": 68
        },
        "outputId": "11b5dd8e-0be0-43ba-e4ae-6a96e6cfb6fd"
      },
      "source": [
        "# isto é um comando de saída\n",
        "print('Olá Mundo Cruel!!!')\n",
        "print('Cruel World!!!')\n",
        "print(\"'Com aspas duplas'\")\n",
        "\n",
        "# a Hashtag é um comentário no código, ou seja, o programa não irá processar nenhuma linha que estiver marcada\n",
        "# o comando print() mostra na tela, ou seja, é uma saída de valor(es).\n",
        "# o conteúdo texto deve estar entre aspas (simples ou duplas)."
      ],
      "execution_count": 4,
      "outputs": [
        {
          "output_type": "stream",
          "text": [
            "Olá Mundo Cruel!!!\n",
            "Cruel World!!!\n",
            "'Com aspas duplas'\n"
          ],
          "name": "stdout"
        }
      ]
    },
    {
      "cell_type": "markdown",
      "metadata": {
        "id": "eWRFR0gV4f3n",
        "colab_type": "text"
      },
      "source": [
        "Esta é uma célula apenas de texto. Aqui posso fazer formatações usando as ferramentas que estão na barra. Por exemplo, **Isto está em negrito**. *Isto é Itálico*."
      ]
    },
    {
      "cell_type": "markdown",
      "metadata": {
        "id": "BeobanFu5bdR",
        "colab_type": "text"
      },
      "source": [
        "Abaixo, vamos ver como mesclar uma saída de tela."
      ]
    },
    {
      "cell_type": "code",
      "metadata": {
        "id": "iO1f4-Zn5hu7",
        "colab_type": "code",
        "colab": {
          "base_uri": "https://localhost:8080/",
          "height": 34
        },
        "outputId": "d2038832-b205-4b61-d5e9-a9e48475f3f3"
      },
      "source": [
        "print('Gabriel', 'Oliveira', 'da', 'Silva')"
      ],
      "execution_count": 5,
      "outputs": [
        {
          "output_type": "stream",
          "text": [
            "Gabriel Oliveira da Silva\n"
          ],
          "name": "stdout"
        }
      ]
    }
  ]
}